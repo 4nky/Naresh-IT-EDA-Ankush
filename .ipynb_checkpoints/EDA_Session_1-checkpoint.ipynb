{
 "cells": [
  {
   "cell_type": "markdown",
   "id": "e3271689",
   "metadata": {},
   "source": [
    "## ========= EDA ===========\n",
    "\n",
    "1) Pandas : Data Frame applications\n",
    "\n",
    "2) Numpy : Numerical Python All math applications\n",
    "\n",
    "3) Matplotlib : Used for plotting\n",
    "\n",
    "4) Seaborn : Also used for plotting\n",
    "\n",
    "5) plotly : Also used for plotting\n",
    "\n",
    "6) Bokhe : Also plot\n",
    "\n",
    "\n",
    "## ======= ML Packages =======\n",
    "\n",
    "1) scikit-learn : sklearn\n",
    "\n",
    "\n",
    "## =======DL packages ========\n",
    "\n",
    "1) Tensorflow : Google\n",
    "\n",
    "2) Keras : Google\n",
    "\n",
    "3) Pytorch : Facebook\n",
    "\n",
    "\n",
    "## =======NLP Packages ========\n",
    "\n",
    "1) NLTK : Natural Language Tool Kit\n",
    "\n",
    "2) Scipy\n",
    "\n",
    "\n",
    "## ========= BERT =============\n",
    "\n",
    "1) Transformers : Hugging face (Google)\n",
    "\n",
    "\n",
    "## =========Google models =========\n",
    "\n",
    "1) Specific google packages\n",
    "\n",
    "\n",
    "## =========Azure ML ===========\n",
    "\n",
    "1) Azure Packages\n",
    "\n",
    "\n",
    "## =========GenAI =============\n",
    "\n",
    "1) Gemini : Google\n",
    "\n",
    "2) ChatGPT : OpenAI\n",
    "\n",
    "\n",
    "## ========= LangChain ==========\n",
    "\n",
    "1) LangChain Packages"
   ]
  },
  {
   "cell_type": "markdown",
   "id": "4661afd3",
   "metadata": {},
   "source": [
    "# $Pandas$"
   ]
  },
  {
   "cell_type": "markdown",
   "id": "d9d7ff79",
   "metadata": {},
   "source": [
    "# Create a dataframe using list"
   ]
  },
  {
   "cell_type": "markdown",
   "id": "b6e77b89",
   "metadata": {},
   "source": [
    "- list === dictionary\n",
    "\n",
    "- dictionary === list"
   ]
  },
  {
   "cell_type": "markdown",
   "id": "898eac6d",
   "metadata": {},
   "source": [
    "$step-1$\n",
    "\n",
    "#### Create a dataframe"
   ]
  },
  {
   "cell_type": "code",
   "execution_count": 7,
   "id": "c4f46ac2",
   "metadata": {},
   "outputs": [
    {
     "data": {
      "text/html": [
       "<div>\n",
       "<style scoped>\n",
       "    .dataframe tbody tr th:only-of-type {\n",
       "        vertical-align: middle;\n",
       "    }\n",
       "\n",
       "    .dataframe tbody tr th {\n",
       "        vertical-align: top;\n",
       "    }\n",
       "\n",
       "    .dataframe thead th {\n",
       "        text-align: right;\n",
       "    }\n",
       "</style>\n",
       "<table border=\"1\" class=\"dataframe\">\n",
       "  <thead>\n",
       "    <tr style=\"text-align: right;\">\n",
       "      <th></th>\n",
       "    </tr>\n",
       "  </thead>\n",
       "  <tbody>\n",
       "  </tbody>\n",
       "</table>\n",
       "</div>"
      ],
      "text/plain": [
       "Empty DataFrame\n",
       "Columns: []\n",
       "Index: []"
      ]
     },
     "execution_count": 7,
     "metadata": {},
     "output_type": "execute_result"
    }
   ],
   "source": [
    "import pandas as pd\n",
    "names = ['Ayush','Avinash','Akash']\n",
    "pd.DataFrame() # Empty dataFrame will be created # No rows and no columns"
   ]
  },
  {
   "cell_type": "markdown",
   "id": "3316076f",
   "metadata": {},
   "source": [
    "$step-2$\n",
    "\n",
    "#### Provide the data"
   ]
  },
  {
   "cell_type": "code",
   "execution_count": 9,
   "id": "8a1e00d0",
   "metadata": {},
   "outputs": [
    {
     "data": {
      "text/html": [
       "<div>\n",
       "<style scoped>\n",
       "    .dataframe tbody tr th:only-of-type {\n",
       "        vertical-align: middle;\n",
       "    }\n",
       "\n",
       "    .dataframe tbody tr th {\n",
       "        vertical-align: top;\n",
       "    }\n",
       "\n",
       "    .dataframe thead th {\n",
       "        text-align: right;\n",
       "    }\n",
       "</style>\n",
       "<table border=\"1\" class=\"dataframe\">\n",
       "  <thead>\n",
       "    <tr style=\"text-align: right;\">\n",
       "      <th></th>\n",
       "      <th>0</th>\n",
       "    </tr>\n",
       "  </thead>\n",
       "  <tbody>\n",
       "    <tr>\n",
       "      <th>0</th>\n",
       "      <td>Ayush</td>\n",
       "    </tr>\n",
       "    <tr>\n",
       "      <th>1</th>\n",
       "      <td>Avinash</td>\n",
       "    </tr>\n",
       "    <tr>\n",
       "      <th>2</th>\n",
       "      <td>Akash</td>\n",
       "    </tr>\n",
       "  </tbody>\n",
       "</table>\n",
       "</div>"
      ],
      "text/plain": [
       "         0\n",
       "0    Ayush\n",
       "1  Avinash\n",
       "2    Akash"
      ]
     },
     "execution_count": 9,
     "metadata": {},
     "output_type": "execute_result"
    }
   ],
   "source": [
    "names = ['Ayush','Avinash','Akash']\n",
    "pd.DataFrame(names)"
   ]
  },
  {
   "cell_type": "markdown",
   "id": "ad3a6e79",
   "metadata": {},
   "source": [
    "#### Add multiple columns"
   ]
  },
  {
   "cell_type": "code",
   "execution_count": 11,
   "id": "c27bb1c9",
   "metadata": {},
   "outputs": [
    {
     "data": {
      "text/html": [
       "<div>\n",
       "<style scoped>\n",
       "    .dataframe tbody tr th:only-of-type {\n",
       "        vertical-align: middle;\n",
       "    }\n",
       "\n",
       "    .dataframe tbody tr th {\n",
       "        vertical-align: top;\n",
       "    }\n",
       "\n",
       "    .dataframe thead th {\n",
       "        text-align: right;\n",
       "    }\n",
       "</style>\n",
       "<table border=\"1\" class=\"dataframe\">\n",
       "  <thead>\n",
       "    <tr style=\"text-align: right;\">\n",
       "      <th></th>\n",
       "      <th>0</th>\n",
       "      <th>1</th>\n",
       "    </tr>\n",
       "  </thead>\n",
       "  <tbody>\n",
       "    <tr>\n",
       "      <th>0</th>\n",
       "      <td>Ayush</td>\n",
       "      <td>20</td>\n",
       "    </tr>\n",
       "    <tr>\n",
       "      <th>1</th>\n",
       "      <td>Avinash</td>\n",
       "      <td>25</td>\n",
       "    </tr>\n",
       "    <tr>\n",
       "      <th>2</th>\n",
       "      <td>Akash</td>\n",
       "      <td>30</td>\n",
       "    </tr>\n",
       "  </tbody>\n",
       "</table>\n",
       "</div>"
      ],
      "text/plain": [
       "         0   1\n",
       "0    Ayush  20\n",
       "1  Avinash  25\n",
       "2    Akash  30"
      ]
     },
     "execution_count": 11,
     "metadata": {},
     "output_type": "execute_result"
    }
   ],
   "source": [
    "names = ['Ayush','Avinash','Akash']\n",
    "age = [20,25,30]\n",
    "pd.DataFrame(zip(names,age))\n",
    "# What is the first positional arguments : data\n",
    "# Second Positional Arguments : index"
   ]
  },
  {
   "cell_type": "code",
   "execution_count": 12,
   "id": "077559a9",
   "metadata": {},
   "outputs": [
    {
     "data": {
      "text/html": [
       "<div>\n",
       "<style scoped>\n",
       "    .dataframe tbody tr th:only-of-type {\n",
       "        vertical-align: middle;\n",
       "    }\n",
       "\n",
       "    .dataframe tbody tr th {\n",
       "        vertical-align: top;\n",
       "    }\n",
       "\n",
       "    .dataframe thead th {\n",
       "        text-align: right;\n",
       "    }\n",
       "</style>\n",
       "<table border=\"1\" class=\"dataframe\">\n",
       "  <thead>\n",
       "    <tr style=\"text-align: right;\">\n",
       "      <th></th>\n",
       "      <th>0</th>\n",
       "      <th>1</th>\n",
       "      <th>2</th>\n",
       "    </tr>\n",
       "  </thead>\n",
       "  <tbody>\n",
       "    <tr>\n",
       "      <th>0</th>\n",
       "      <td>Ayush</td>\n",
       "      <td>20</td>\n",
       "      <td>Hyd</td>\n",
       "    </tr>\n",
       "    <tr>\n",
       "      <th>1</th>\n",
       "      <td>Avinash</td>\n",
       "      <td>25</td>\n",
       "      <td>Blr</td>\n",
       "    </tr>\n",
       "    <tr>\n",
       "      <th>2</th>\n",
       "      <td>Akash</td>\n",
       "      <td>30</td>\n",
       "      <td>Chenn</td>\n",
       "    </tr>\n",
       "  </tbody>\n",
       "</table>\n",
       "</div>"
      ],
      "text/plain": [
       "         0   1      2\n",
       "0    Ayush  20    Hyd\n",
       "1  Avinash  25    Blr\n",
       "2    Akash  30  Chenn"
      ]
     },
     "execution_count": 12,
     "metadata": {},
     "output_type": "execute_result"
    }
   ],
   "source": [
    "names = ['Ayush','Avinash','Akash']\n",
    "age = [20,25,30]\n",
    "city = ['Hyd','Blr','Chenn']\n",
    "pd.DataFrame(zip(names,age,city))"
   ]
  },
  {
   "cell_type": "code",
   "execution_count": 13,
   "id": "d4ddd0c3",
   "metadata": {},
   "outputs": [
    {
     "data": {
      "text/html": [
       "<div>\n",
       "<style scoped>\n",
       "    .dataframe tbody tr th:only-of-type {\n",
       "        vertical-align: middle;\n",
       "    }\n",
       "\n",
       "    .dataframe tbody tr th {\n",
       "        vertical-align: top;\n",
       "    }\n",
       "\n",
       "    .dataframe thead th {\n",
       "        text-align: right;\n",
       "    }\n",
       "</style>\n",
       "<table border=\"1\" class=\"dataframe\">\n",
       "  <thead>\n",
       "    <tr style=\"text-align: right;\">\n",
       "      <th></th>\n",
       "      <th>0</th>\n",
       "      <th>1</th>\n",
       "    </tr>\n",
       "  </thead>\n",
       "  <tbody>\n",
       "    <tr>\n",
       "      <th>Hyd</th>\n",
       "      <td>Ayush</td>\n",
       "      <td>20</td>\n",
       "    </tr>\n",
       "    <tr>\n",
       "      <th>Blr</th>\n",
       "      <td>Avinash</td>\n",
       "      <td>25</td>\n",
       "    </tr>\n",
       "    <tr>\n",
       "      <th>Chenn</th>\n",
       "      <td>Akash</td>\n",
       "      <td>30</td>\n",
       "    </tr>\n",
       "  </tbody>\n",
       "</table>\n",
       "</div>"
      ],
      "text/plain": [
       "             0   1\n",
       "Hyd      Ayush  20\n",
       "Blr    Avinash  25\n",
       "Chenn    Akash  30"
      ]
     },
     "execution_count": 13,
     "metadata": {},
     "output_type": "execute_result"
    }
   ],
   "source": [
    "names = ['Ayush','Avinash','Akash']\n",
    "age = [20,25,30]\n",
    "city = ['Hyd','Blr','Chenn']\n",
    "pd.DataFrame(zip(names,age),city)"
   ]
  },
  {
   "cell_type": "code",
   "execution_count": 14,
   "id": "7e1594c1",
   "metadata": {},
   "outputs": [
    {
     "data": {
      "text/html": [
       "<div>\n",
       "<style scoped>\n",
       "    .dataframe tbody tr th:only-of-type {\n",
       "        vertical-align: middle;\n",
       "    }\n",
       "\n",
       "    .dataframe tbody tr th {\n",
       "        vertical-align: top;\n",
       "    }\n",
       "\n",
       "    .dataframe thead th {\n",
       "        text-align: right;\n",
       "    }\n",
       "</style>\n",
       "<table border=\"1\" class=\"dataframe\">\n",
       "  <thead>\n",
       "    <tr style=\"text-align: right;\">\n",
       "      <th></th>\n",
       "      <th>0</th>\n",
       "      <th>1</th>\n",
       "    </tr>\n",
       "  </thead>\n",
       "  <tbody>\n",
       "    <tr>\n",
       "      <th>Hyd</th>\n",
       "      <td>Ayush</td>\n",
       "      <td>20</td>\n",
       "    </tr>\n",
       "    <tr>\n",
       "      <th>Blr</th>\n",
       "      <td>Avinash</td>\n",
       "      <td>25</td>\n",
       "    </tr>\n",
       "    <tr>\n",
       "      <th>Chenn</th>\n",
       "      <td>Akash</td>\n",
       "      <td>30</td>\n",
       "    </tr>\n",
       "  </tbody>\n",
       "</table>\n",
       "</div>"
      ],
      "text/plain": [
       "             0   1\n",
       "Hyd      Ayush  20\n",
       "Blr    Avinash  25\n",
       "Chenn    Akash  30"
      ]
     },
     "execution_count": 14,
     "metadata": {},
     "output_type": "execute_result"
    }
   ],
   "source": [
    "names = ['Ayush','Avinash','Akash']\n",
    "age = [20,25,30]\n",
    "city = ['Hyd','Blr','Chenn']\n",
    "data = zip(names,age)\n",
    "pd.DataFrame(data,city)"
   ]
  },
  {
   "cell_type": "markdown",
   "id": "08a08a2e",
   "metadata": {},
   "source": [
    "$step-3$\n",
    "\n",
    "#### Provide column names"
   ]
  },
  {
   "cell_type": "code",
   "execution_count": 16,
   "id": "e3df99e4",
   "metadata": {},
   "outputs": [
    {
     "data": {
      "text/html": [
       "<div>\n",
       "<style scoped>\n",
       "    .dataframe tbody tr th:only-of-type {\n",
       "        vertical-align: middle;\n",
       "    }\n",
       "\n",
       "    .dataframe tbody tr th {\n",
       "        vertical-align: top;\n",
       "    }\n",
       "\n",
       "    .dataframe thead th {\n",
       "        text-align: right;\n",
       "    }\n",
       "</style>\n",
       "<table border=\"1\" class=\"dataframe\">\n",
       "  <thead>\n",
       "    <tr style=\"text-align: right;\">\n",
       "      <th></th>\n",
       "      <th>Names</th>\n",
       "      <th>Age</th>\n",
       "      <th>City</th>\n",
       "    </tr>\n",
       "  </thead>\n",
       "  <tbody>\n",
       "    <tr>\n",
       "      <th>0</th>\n",
       "      <td>Ayush</td>\n",
       "      <td>20</td>\n",
       "      <td>Hyd</td>\n",
       "    </tr>\n",
       "    <tr>\n",
       "      <th>1</th>\n",
       "      <td>Avinash</td>\n",
       "      <td>25</td>\n",
       "      <td>Blr</td>\n",
       "    </tr>\n",
       "    <tr>\n",
       "      <th>2</th>\n",
       "      <td>Akash</td>\n",
       "      <td>30</td>\n",
       "      <td>Chenn</td>\n",
       "    </tr>\n",
       "  </tbody>\n",
       "</table>\n",
       "</div>"
      ],
      "text/plain": [
       "     Names  Age   City\n",
       "0    Ayush   20    Hyd\n",
       "1  Avinash   25    Blr\n",
       "2    Akash   30  Chenn"
      ]
     },
     "execution_count": 16,
     "metadata": {},
     "output_type": "execute_result"
    }
   ],
   "source": [
    "names = ['Ayush','Avinash','Akash']\n",
    "age = [20,25,30]\n",
    "city = ['Hyd','Blr','Chenn']\n",
    "pd.DataFrame(zip(names,age,city),columns = ['Names','Age','City'])"
   ]
  },
  {
   "cell_type": "code",
   "execution_count": 17,
   "id": "da98a084",
   "metadata": {},
   "outputs": [
    {
     "data": {
      "text/html": [
       "<div>\n",
       "<style scoped>\n",
       "    .dataframe tbody tr th:only-of-type {\n",
       "        vertical-align: middle;\n",
       "    }\n",
       "\n",
       "    .dataframe tbody tr th {\n",
       "        vertical-align: top;\n",
       "    }\n",
       "\n",
       "    .dataframe thead th {\n",
       "        text-align: right;\n",
       "    }\n",
       "</style>\n",
       "<table border=\"1\" class=\"dataframe\">\n",
       "  <thead>\n",
       "    <tr style=\"text-align: right;\">\n",
       "      <th></th>\n",
       "      <th>Names</th>\n",
       "      <th>Age</th>\n",
       "      <th>City</th>\n",
       "    </tr>\n",
       "  </thead>\n",
       "  <tbody>\n",
       "    <tr>\n",
       "      <th>0</th>\n",
       "      <td>Ayush</td>\n",
       "      <td>20</td>\n",
       "      <td>Hyd</td>\n",
       "    </tr>\n",
       "    <tr>\n",
       "      <th>1</th>\n",
       "      <td>Avinash</td>\n",
       "      <td>25</td>\n",
       "      <td>Blr</td>\n",
       "    </tr>\n",
       "    <tr>\n",
       "      <th>2</th>\n",
       "      <td>Akash</td>\n",
       "      <td>30</td>\n",
       "      <td>Chenn</td>\n",
       "    </tr>\n",
       "  </tbody>\n",
       "</table>\n",
       "</div>"
      ],
      "text/plain": [
       "     Names  Age   City\n",
       "0    Ayush   20    Hyd\n",
       "1  Avinash   25    Blr\n",
       "2    Akash   30  Chenn"
      ]
     },
     "execution_count": 17,
     "metadata": {},
     "output_type": "execute_result"
    }
   ],
   "source": [
    "names = ['Ayush','Avinash','Akash']\n",
    "age = [20,25,30]\n",
    "city = ['Hyd','Blr','Chenn']\n",
    "cols = ['Names','Age','City']\n",
    "pd.DataFrame(zip(names,age,city),columns = cols)"
   ]
  },
  {
   "cell_type": "code",
   "execution_count": 18,
   "id": "2c19bdb6",
   "metadata": {},
   "outputs": [],
   "source": [
    "names = ['Ayush','Avinash','Akash']\n",
    "age = [20,25,30]\n",
    "city = ['Hyd','Blr','Chenn']\n",
    "\n",
    "data = zip(names,age,city)\n",
    "cols = ['Names','Age','City']\n",
    "df = pd.DataFrame(data,columns = cols)"
   ]
  },
  {
   "cell_type": "markdown",
   "id": "e3e4fd7b",
   "metadata": {},
   "source": [
    "$step-4$\n",
    "\n",
    "#### add column in already available dataFrame "
   ]
  },
  {
   "cell_type": "code",
   "execution_count": 20,
   "id": "8614c7cf",
   "metadata": {},
   "outputs": [
    {
     "data": {
      "text/plain": [
       "pandas.core.frame.DataFrame"
      ]
     },
     "execution_count": 20,
     "metadata": {},
     "output_type": "execute_result"
    }
   ],
   "source": [
    "type(df)"
   ]
  },
  {
   "cell_type": "markdown",
   "id": "853ebf5b",
   "metadata": {},
   "source": [
    "- If you want to add new column\n",
    "\n",
    "- First you need to check the number of rows in already existing dataset\n",
    "\n",
    "- For example in above the dataframe has 3 rows\n",
    "\n",
    "- You need to create a new list with 3 rows\n",
    "\n",
    "- That list equate to the dataframe"
   ]
  },
  {
   "cell_type": "code",
   "execution_count": 22,
   "id": "5a08007b",
   "metadata": {},
   "outputs": [],
   "source": [
    "job = ['DS','DE','DA']\n",
    "df['Job'] = job"
   ]
  },
  {
   "cell_type": "code",
   "execution_count": 23,
   "id": "14d40ff7",
   "metadata": {},
   "outputs": [
    {
     "data": {
      "text/html": [
       "<div>\n",
       "<style scoped>\n",
       "    .dataframe tbody tr th:only-of-type {\n",
       "        vertical-align: middle;\n",
       "    }\n",
       "\n",
       "    .dataframe tbody tr th {\n",
       "        vertical-align: top;\n",
       "    }\n",
       "\n",
       "    .dataframe thead th {\n",
       "        text-align: right;\n",
       "    }\n",
       "</style>\n",
       "<table border=\"1\" class=\"dataframe\">\n",
       "  <thead>\n",
       "    <tr style=\"text-align: right;\">\n",
       "      <th></th>\n",
       "      <th>Names</th>\n",
       "      <th>Age</th>\n",
       "      <th>City</th>\n",
       "      <th>Job</th>\n",
       "    </tr>\n",
       "  </thead>\n",
       "  <tbody>\n",
       "    <tr>\n",
       "      <th>0</th>\n",
       "      <td>Ayush</td>\n",
       "      <td>20</td>\n",
       "      <td>Hyd</td>\n",
       "      <td>DS</td>\n",
       "    </tr>\n",
       "    <tr>\n",
       "      <th>1</th>\n",
       "      <td>Avinash</td>\n",
       "      <td>25</td>\n",
       "      <td>Blr</td>\n",
       "      <td>DE</td>\n",
       "    </tr>\n",
       "    <tr>\n",
       "      <th>2</th>\n",
       "      <td>Akash</td>\n",
       "      <td>30</td>\n",
       "      <td>Chenn</td>\n",
       "      <td>DA</td>\n",
       "    </tr>\n",
       "  </tbody>\n",
       "</table>\n",
       "</div>"
      ],
      "text/plain": [
       "     Names  Age   City Job\n",
       "0    Ayush   20    Hyd  DS\n",
       "1  Avinash   25    Blr  DE\n",
       "2    Akash   30  Chenn  DA"
      ]
     },
     "execution_count": 23,
     "metadata": {},
     "output_type": "execute_result"
    }
   ],
   "source": [
    "df"
   ]
  },
  {
   "cell_type": "code",
   "execution_count": 24,
   "id": "fde52c3b",
   "metadata": {},
   "outputs": [
    {
     "name": "stdout",
     "output_type": "stream",
     "text": [
      "     Names  Age   City Job\n",
      "0    Ayush   20    Hyd  DS\n",
      "1  Avinash   25    Blr  DE\n",
      "2    Akash   30  Chenn  DA\n"
     ]
    }
   ],
   "source": [
    "print(df)"
   ]
  },
  {
   "cell_type": "markdown",
   "id": "41681f03",
   "metadata": {},
   "source": [
    "$step-5$\n",
    "\n",
    "#### update existing column"
   ]
  },
  {
   "cell_type": "code",
   "execution_count": 26,
   "id": "5e369b71",
   "metadata": {},
   "outputs": [
    {
     "data": {
      "text/html": [
       "<div>\n",
       "<style scoped>\n",
       "    .dataframe tbody tr th:only-of-type {\n",
       "        vertical-align: middle;\n",
       "    }\n",
       "\n",
       "    .dataframe tbody tr th {\n",
       "        vertical-align: top;\n",
       "    }\n",
       "\n",
       "    .dataframe thead th {\n",
       "        text-align: right;\n",
       "    }\n",
       "</style>\n",
       "<table border=\"1\" class=\"dataframe\">\n",
       "  <thead>\n",
       "    <tr style=\"text-align: right;\">\n",
       "      <th></th>\n",
       "      <th>Names</th>\n",
       "      <th>Age</th>\n",
       "      <th>City</th>\n",
       "      <th>Job</th>\n",
       "    </tr>\n",
       "  </thead>\n",
       "  <tbody>\n",
       "    <tr>\n",
       "      <th>0</th>\n",
       "      <td>Ayush</td>\n",
       "      <td>35</td>\n",
       "      <td>Hyd</td>\n",
       "      <td>DS</td>\n",
       "    </tr>\n",
       "    <tr>\n",
       "      <th>1</th>\n",
       "      <td>Avinash</td>\n",
       "      <td>40</td>\n",
       "      <td>Blr</td>\n",
       "      <td>DE</td>\n",
       "    </tr>\n",
       "    <tr>\n",
       "      <th>2</th>\n",
       "      <td>Akash</td>\n",
       "      <td>45</td>\n",
       "      <td>Chenn</td>\n",
       "      <td>DA</td>\n",
       "    </tr>\n",
       "  </tbody>\n",
       "</table>\n",
       "</div>"
      ],
      "text/plain": [
       "     Names  Age   City Job\n",
       "0    Ayush   35    Hyd  DS\n",
       "1  Avinash   40    Blr  DE\n",
       "2    Akash   45  Chenn  DA"
      ]
     },
     "execution_count": 26,
     "metadata": {},
     "output_type": "execute_result"
    }
   ],
   "source": [
    "df['Age'] = [35,40,45]\n",
    "df"
   ]
  },
  {
   "cell_type": "markdown",
   "id": "16c1fc18",
   "metadata": {},
   "source": [
    "$step-6$\n",
    "\n",
    "#### Change the index"
   ]
  },
  {
   "cell_type": "code",
   "execution_count": 28,
   "id": "bf7d9e05",
   "metadata": {},
   "outputs": [
    {
     "data": {
      "text/html": [
       "<div>\n",
       "<style scoped>\n",
       "    .dataframe tbody tr th:only-of-type {\n",
       "        vertical-align: middle;\n",
       "    }\n",
       "\n",
       "    .dataframe tbody tr th {\n",
       "        vertical-align: top;\n",
       "    }\n",
       "\n",
       "    .dataframe thead th {\n",
       "        text-align: right;\n",
       "    }\n",
       "</style>\n",
       "<table border=\"1\" class=\"dataframe\">\n",
       "  <thead>\n",
       "    <tr style=\"text-align: right;\">\n",
       "      <th></th>\n",
       "      <th>Names</th>\n",
       "      <th>Age</th>\n",
       "      <th>City</th>\n",
       "    </tr>\n",
       "  </thead>\n",
       "  <tbody>\n",
       "    <tr>\n",
       "      <th>A</th>\n",
       "      <td>Ayush</td>\n",
       "      <td>20</td>\n",
       "      <td>Hyd</td>\n",
       "    </tr>\n",
       "    <tr>\n",
       "      <th>B</th>\n",
       "      <td>Avinash</td>\n",
       "      <td>25</td>\n",
       "      <td>Blr</td>\n",
       "    </tr>\n",
       "    <tr>\n",
       "      <th>C</th>\n",
       "      <td>Akash</td>\n",
       "      <td>30</td>\n",
       "      <td>Chenn</td>\n",
       "    </tr>\n",
       "  </tbody>\n",
       "</table>\n",
       "</div>"
      ],
      "text/plain": [
       "     Names  Age   City\n",
       "A    Ayush   20    Hyd\n",
       "B  Avinash   25    Blr\n",
       "C    Akash   30  Chenn"
      ]
     },
     "execution_count": 28,
     "metadata": {},
     "output_type": "execute_result"
    }
   ],
   "source": [
    "names = ['Ayush','Avinash','Akash']\n",
    "age = [20,25,30]\n",
    "city = ['Hyd','Blr','Chenn']\n",
    "\n",
    "data = zip(names,age,city)\n",
    "cols = ['Names','Age','City']\n",
    "idx = ['A','B','C']\n",
    "df = pd.DataFrame(data,index = idx,columns = cols)\n",
    "df"
   ]
  },
  {
   "cell_type": "code",
   "execution_count": 29,
   "id": "58c567b8",
   "metadata": {},
   "outputs": [
    {
     "data": {
      "text/html": [
       "<div>\n",
       "<style scoped>\n",
       "    .dataframe tbody tr th:only-of-type {\n",
       "        vertical-align: middle;\n",
       "    }\n",
       "\n",
       "    .dataframe tbody tr th {\n",
       "        vertical-align: top;\n",
       "    }\n",
       "\n",
       "    .dataframe thead th {\n",
       "        text-align: right;\n",
       "    }\n",
       "</style>\n",
       "<table border=\"1\" class=\"dataframe\">\n",
       "  <thead>\n",
       "    <tr style=\"text-align: right;\">\n",
       "      <th></th>\n",
       "      <th>Names</th>\n",
       "      <th>Age</th>\n",
       "      <th>City</th>\n",
       "    </tr>\n",
       "  </thead>\n",
       "  <tbody>\n",
       "    <tr>\n",
       "      <th>A</th>\n",
       "      <td>Ayush</td>\n",
       "      <td>20</td>\n",
       "      <td>Hyd</td>\n",
       "    </tr>\n",
       "    <tr>\n",
       "      <th>B</th>\n",
       "      <td>Avinash</td>\n",
       "      <td>25</td>\n",
       "      <td>Blr</td>\n",
       "    </tr>\n",
       "    <tr>\n",
       "      <th>C</th>\n",
       "      <td>Akash</td>\n",
       "      <td>30</td>\n",
       "      <td>Chenn</td>\n",
       "    </tr>\n",
       "    <tr>\n",
       "      <th>D</th>\n",
       "      <td>Anvi</td>\n",
       "      <td>35</td>\n",
       "      <td>Mumbai</td>\n",
       "    </tr>\n",
       "  </tbody>\n",
       "</table>\n",
       "</div>"
      ],
      "text/plain": [
       "     Names  Age    City\n",
       "A    Ayush   20     Hyd\n",
       "B  Avinash   25     Blr\n",
       "C    Akash   30   Chenn\n",
       "D     Anvi   35  Mumbai"
      ]
     },
     "execution_count": 29,
     "metadata": {},
     "output_type": "execute_result"
    }
   ],
   "source": [
    "names = ['Ayush','Avinash','Akash','Anvi']\n",
    "age = [20,25,30,35]\n",
    "city = ['Hyd','Blr','Chenn','Mumbai']\n",
    "\n",
    "data = zip(names,age,city)\n",
    "cols = ['Names','Age','City']\n",
    "idx = ['A','B','C','D']\n",
    "df = pd.DataFrame(data,index = idx,columns = cols)\n",
    "df"
   ]
  },
  {
   "cell_type": "markdown",
   "id": "5ffc9054",
   "metadata": {},
   "source": [
    "**Note**\n",
    "\n",
    "- Number of list equals to **Number of columns**\n",
    "\n",
    "- Number of values inside list equals to **Number of rows**\n",
    "\n",
    "- When you create the data all the lists will be in same length"
   ]
  },
  {
   "cell_type": "markdown",
   "id": "b0b52285",
   "metadata": {},
   "source": [
    "$step-7$\n",
    "\n",
    "**shape**\n",
    "\n",
    "- Number of rows\n",
    "\n",
    "- Number of columns"
   ]
  },
  {
   "cell_type": "code",
   "execution_count": 32,
   "id": "22c89fc1",
   "metadata": {},
   "outputs": [
    {
     "name": "stdout",
     "output_type": "stream",
     "text": [
      "The number of rows are:  4\n",
      "The number of columns are:  3\n"
     ]
    }
   ],
   "source": [
    "df.shape\n",
    "# Matrix format\n",
    "# 4 rows and 3 columns\n",
    "print(\"The number of rows are: \",df.shape[0])\n",
    "print(\"The number of columns are: \",df.shape[1])"
   ]
  },
  {
   "cell_type": "code",
   "execution_count": 33,
   "id": "bc221147",
   "metadata": {},
   "outputs": [
    {
     "data": {
      "text/plain": [
       "(4, 3)"
      ]
     },
     "execution_count": 33,
     "metadata": {},
     "output_type": "execute_result"
    }
   ],
   "source": [
    "df.shape"
   ]
  },
  {
   "cell_type": "markdown",
   "id": "9d05526a",
   "metadata": {},
   "source": [
    "$step-8$\n",
    "\n",
    "#### How to drop the column"
   ]
  },
  {
   "cell_type": "markdown",
   "id": "a9dab2fa",
   "metadata": {},
   "source": [
    "- In order to drop column we require 3 arguments\n",
    "\n",
    "- Column name \n",
    "\n",
    "         - The column name we need to mention\n",
    "         \n",
    "- axis\n",
    "\n",
    "         - axis=0  **represents rows**\n",
    "         \n",
    "         - axis=1  **represents columns**\n",
    "         \n",
    "- inplace \n",
    "\n",
    "         - we are dropping column means we are modifying the data frame\n",
    "         \n",
    "         - So this modification we wand to save in same or different variable \n",
    "         \n",
    "         - If you want to keep in the same variable the argument is\n",
    "         **inplace=True**"
   ]
  },
  {
   "cell_type": "code",
   "execution_count": 36,
   "id": "bdf2103e",
   "metadata": {},
   "outputs": [
    {
     "data": {
      "text/html": [
       "<div>\n",
       "<style scoped>\n",
       "    .dataframe tbody tr th:only-of-type {\n",
       "        vertical-align: middle;\n",
       "    }\n",
       "\n",
       "    .dataframe tbody tr th {\n",
       "        vertical-align: top;\n",
       "    }\n",
       "\n",
       "    .dataframe thead th {\n",
       "        text-align: right;\n",
       "    }\n",
       "</style>\n",
       "<table border=\"1\" class=\"dataframe\">\n",
       "  <thead>\n",
       "    <tr style=\"text-align: right;\">\n",
       "      <th></th>\n",
       "      <th>Names</th>\n",
       "      <th>Age</th>\n",
       "      <th>City</th>\n",
       "      <th>Job</th>\n",
       "    </tr>\n",
       "  </thead>\n",
       "  <tbody>\n",
       "    <tr>\n",
       "      <th>A</th>\n",
       "      <td>Ayush</td>\n",
       "      <td>20</td>\n",
       "      <td>Hyd</td>\n",
       "      <td>DS</td>\n",
       "    </tr>\n",
       "    <tr>\n",
       "      <th>B</th>\n",
       "      <td>Avinash</td>\n",
       "      <td>25</td>\n",
       "      <td>Blr</td>\n",
       "      <td>DA</td>\n",
       "    </tr>\n",
       "    <tr>\n",
       "      <th>C</th>\n",
       "      <td>Akash</td>\n",
       "      <td>30</td>\n",
       "      <td>Chenn</td>\n",
       "      <td>DE</td>\n",
       "    </tr>\n",
       "    <tr>\n",
       "      <th>D</th>\n",
       "      <td>Anvi</td>\n",
       "      <td>35</td>\n",
       "      <td>Mumbai</td>\n",
       "      <td>FE</td>\n",
       "    </tr>\n",
       "  </tbody>\n",
       "</table>\n",
       "</div>"
      ],
      "text/plain": [
       "     Names  Age    City Job\n",
       "A    Ayush   20     Hyd  DS\n",
       "B  Avinash   25     Blr  DA\n",
       "C    Akash   30   Chenn  DE\n",
       "D     Anvi   35  Mumbai  FE"
      ]
     },
     "execution_count": 36,
     "metadata": {},
     "output_type": "execute_result"
    }
   ],
   "source": [
    "df['Job'] = ['DS','DA','DE','FE']\n",
    "df"
   ]
  },
  {
   "cell_type": "code",
   "execution_count": 37,
   "id": "bd40bb56",
   "metadata": {},
   "outputs": [],
   "source": [
    "df.drop('City',axis=1,inplace=True)"
   ]
  },
  {
   "cell_type": "code",
   "execution_count": 38,
   "id": "7f3df8a8",
   "metadata": {},
   "outputs": [
    {
     "data": {
      "text/html": [
       "<div>\n",
       "<style scoped>\n",
       "    .dataframe tbody tr th:only-of-type {\n",
       "        vertical-align: middle;\n",
       "    }\n",
       "\n",
       "    .dataframe tbody tr th {\n",
       "        vertical-align: top;\n",
       "    }\n",
       "\n",
       "    .dataframe thead th {\n",
       "        text-align: right;\n",
       "    }\n",
       "</style>\n",
       "<table border=\"1\" class=\"dataframe\">\n",
       "  <thead>\n",
       "    <tr style=\"text-align: right;\">\n",
       "      <th></th>\n",
       "      <th>Names</th>\n",
       "      <th>Age</th>\n",
       "      <th>Job</th>\n",
       "    </tr>\n",
       "  </thead>\n",
       "  <tbody>\n",
       "    <tr>\n",
       "      <th>A</th>\n",
       "      <td>Ayush</td>\n",
       "      <td>20</td>\n",
       "      <td>DS</td>\n",
       "    </tr>\n",
       "    <tr>\n",
       "      <th>B</th>\n",
       "      <td>Avinash</td>\n",
       "      <td>25</td>\n",
       "      <td>DA</td>\n",
       "    </tr>\n",
       "    <tr>\n",
       "      <th>C</th>\n",
       "      <td>Akash</td>\n",
       "      <td>30</td>\n",
       "      <td>DE</td>\n",
       "    </tr>\n",
       "    <tr>\n",
       "      <th>D</th>\n",
       "      <td>Anvi</td>\n",
       "      <td>35</td>\n",
       "      <td>FE</td>\n",
       "    </tr>\n",
       "  </tbody>\n",
       "</table>\n",
       "</div>"
      ],
      "text/plain": [
       "     Names  Age Job\n",
       "A    Ayush   20  DS\n",
       "B  Avinash   25  DA\n",
       "C    Akash   30  DE\n",
       "D     Anvi   35  FE"
      ]
     },
     "execution_count": 38,
     "metadata": {},
     "output_type": "execute_result"
    }
   ],
   "source": [
    "df"
   ]
  },
  {
   "cell_type": "code",
   "execution_count": 39,
   "id": "ed10fc8f",
   "metadata": {},
   "outputs": [
    {
     "data": {
      "text/html": [
       "<div>\n",
       "<style scoped>\n",
       "    .dataframe tbody tr th:only-of-type {\n",
       "        vertical-align: middle;\n",
       "    }\n",
       "\n",
       "    .dataframe tbody tr th {\n",
       "        vertical-align: top;\n",
       "    }\n",
       "\n",
       "    .dataframe thead th {\n",
       "        text-align: right;\n",
       "    }\n",
       "</style>\n",
       "<table border=\"1\" class=\"dataframe\">\n",
       "  <thead>\n",
       "    <tr style=\"text-align: right;\">\n",
       "      <th></th>\n",
       "      <th>Names</th>\n",
       "      <th>Age</th>\n",
       "      <th>Job</th>\n",
       "    </tr>\n",
       "  </thead>\n",
       "  <tbody>\n",
       "    <tr>\n",
       "      <th>A</th>\n",
       "      <td>Ayush</td>\n",
       "      <td>20</td>\n",
       "      <td>DS</td>\n",
       "    </tr>\n",
       "    <tr>\n",
       "      <th>B</th>\n",
       "      <td>Avinash</td>\n",
       "      <td>25</td>\n",
       "      <td>DA</td>\n",
       "    </tr>\n",
       "    <tr>\n",
       "      <th>C</th>\n",
       "      <td>Akash</td>\n",
       "      <td>30</td>\n",
       "      <td>DE</td>\n",
       "    </tr>\n",
       "    <tr>\n",
       "      <th>D</th>\n",
       "      <td>Anvi</td>\n",
       "      <td>35</td>\n",
       "      <td>FE</td>\n",
       "    </tr>\n",
       "  </tbody>\n",
       "</table>\n",
       "</div>"
      ],
      "text/plain": [
       "     Names  Age Job\n",
       "A    Ayush   20  DS\n",
       "B  Avinash   25  DA\n",
       "C    Akash   30  DE\n",
       "D     Anvi   35  FE"
      ]
     },
     "execution_count": 39,
     "metadata": {},
     "output_type": "execute_result"
    }
   ],
   "source": [
    "df.drop('Age',axis=1)\n",
    "df"
   ]
  },
  {
   "cell_type": "code",
   "execution_count": 40,
   "id": "84fd31fb",
   "metadata": {},
   "outputs": [
    {
     "data": {
      "text/html": [
       "<div>\n",
       "<style scoped>\n",
       "    .dataframe tbody tr th:only-of-type {\n",
       "        vertical-align: middle;\n",
       "    }\n",
       "\n",
       "    .dataframe tbody tr th {\n",
       "        vertical-align: top;\n",
       "    }\n",
       "\n",
       "    .dataframe thead th {\n",
       "        text-align: right;\n",
       "    }\n",
       "</style>\n",
       "<table border=\"1\" class=\"dataframe\">\n",
       "  <thead>\n",
       "    <tr style=\"text-align: right;\">\n",
       "      <th></th>\n",
       "      <th>Names</th>\n",
       "      <th>Job</th>\n",
       "    </tr>\n",
       "  </thead>\n",
       "  <tbody>\n",
       "    <tr>\n",
       "      <th>A</th>\n",
       "      <td>Ayush</td>\n",
       "      <td>DS</td>\n",
       "    </tr>\n",
       "    <tr>\n",
       "      <th>B</th>\n",
       "      <td>Avinash</td>\n",
       "      <td>DA</td>\n",
       "    </tr>\n",
       "    <tr>\n",
       "      <th>C</th>\n",
       "      <td>Akash</td>\n",
       "      <td>DE</td>\n",
       "    </tr>\n",
       "    <tr>\n",
       "      <th>D</th>\n",
       "      <td>Anvi</td>\n",
       "      <td>FE</td>\n",
       "    </tr>\n",
       "  </tbody>\n",
       "</table>\n",
       "</div>"
      ],
      "text/plain": [
       "     Names Job\n",
       "A    Ayush  DS\n",
       "B  Avinash  DA\n",
       "C    Akash  DE\n",
       "D     Anvi  FE"
      ]
     },
     "execution_count": 40,
     "metadata": {},
     "output_type": "execute_result"
    }
   ],
   "source": [
    "df1 = df.drop('Age',axis=1)\n",
    "df1"
   ]
  },
  {
   "cell_type": "code",
   "execution_count": 41,
   "id": "1d990e08",
   "metadata": {},
   "outputs": [
    {
     "data": {
      "text/html": [
       "<div>\n",
       "<style scoped>\n",
       "    .dataframe tbody tr th:only-of-type {\n",
       "        vertical-align: middle;\n",
       "    }\n",
       "\n",
       "    .dataframe tbody tr th {\n",
       "        vertical-align: top;\n",
       "    }\n",
       "\n",
       "    .dataframe thead th {\n",
       "        text-align: right;\n",
       "    }\n",
       "</style>\n",
       "<table border=\"1\" class=\"dataframe\">\n",
       "  <thead>\n",
       "    <tr style=\"text-align: right;\">\n",
       "      <th></th>\n",
       "      <th>Names</th>\n",
       "      <th>Age</th>\n",
       "      <th>City</th>\n",
       "      <th>job</th>\n",
       "    </tr>\n",
       "  </thead>\n",
       "  <tbody>\n",
       "    <tr>\n",
       "      <th>A</th>\n",
       "      <td>Ayush</td>\n",
       "      <td>20</td>\n",
       "      <td>Hyd</td>\n",
       "      <td>DA</td>\n",
       "    </tr>\n",
       "    <tr>\n",
       "      <th>B</th>\n",
       "      <td>Avinash</td>\n",
       "      <td>25</td>\n",
       "      <td>Blr</td>\n",
       "      <td>DS</td>\n",
       "    </tr>\n",
       "    <tr>\n",
       "      <th>C</th>\n",
       "      <td>Akash</td>\n",
       "      <td>30</td>\n",
       "      <td>Chenn</td>\n",
       "      <td>DE</td>\n",
       "    </tr>\n",
       "    <tr>\n",
       "      <th>D</th>\n",
       "      <td>Anvi</td>\n",
       "      <td>35</td>\n",
       "      <td>Mumbai</td>\n",
       "      <td>FE</td>\n",
       "    </tr>\n",
       "  </tbody>\n",
       "</table>\n",
       "</div>"
      ],
      "text/plain": [
       "     Names  Age    City job\n",
       "A    Ayush   20     Hyd  DA\n",
       "B  Avinash   25     Blr  DS\n",
       "C    Akash   30   Chenn  DE\n",
       "D     Anvi   35  Mumbai  FE"
      ]
     },
     "execution_count": 41,
     "metadata": {},
     "output_type": "execute_result"
    }
   ],
   "source": [
    "import pandas as pd\n",
    "names = ['Ayush','Avinash','Akash','Anvi']\n",
    "age = [20,25,30,35]\n",
    "city = ['Hyd','Blr','Chenn','Mumbai']\n",
    "Job = ['DA','DS','DE','FE']\n",
    "\n",
    "data = zip(names,age,city,Job)\n",
    "cols = ['Names','Age','City','job']\n",
    "idx = ['A','B','C','D']\n",
    "df = pd.DataFrame(data,index = idx,columns = cols)\n",
    "df"
   ]
  },
  {
   "cell_type": "markdown",
   "id": "e4cd854f",
   "metadata": {},
   "source": [
    "$step-9$\n",
    "\n",
    "#### Drop multiple columns"
   ]
  },
  {
   "cell_type": "code",
   "execution_count": 43,
   "id": "49accca3",
   "metadata": {},
   "outputs": [
    {
     "data": {
      "text/html": [
       "<div>\n",
       "<style scoped>\n",
       "    .dataframe tbody tr th:only-of-type {\n",
       "        vertical-align: middle;\n",
       "    }\n",
       "\n",
       "    .dataframe tbody tr th {\n",
       "        vertical-align: top;\n",
       "    }\n",
       "\n",
       "    .dataframe thead th {\n",
       "        text-align: right;\n",
       "    }\n",
       "</style>\n",
       "<table border=\"1\" class=\"dataframe\">\n",
       "  <thead>\n",
       "    <tr style=\"text-align: right;\">\n",
       "      <th></th>\n",
       "      <th>Names</th>\n",
       "      <th>Age</th>\n",
       "      <th>City</th>\n",
       "      <th>job</th>\n",
       "    </tr>\n",
       "  </thead>\n",
       "  <tbody>\n",
       "    <tr>\n",
       "      <th>A</th>\n",
       "      <td>Ayush</td>\n",
       "      <td>20</td>\n",
       "      <td>Hyd</td>\n",
       "      <td>DA</td>\n",
       "    </tr>\n",
       "    <tr>\n",
       "      <th>B</th>\n",
       "      <td>Avinash</td>\n",
       "      <td>25</td>\n",
       "      <td>Blr</td>\n",
       "      <td>DS</td>\n",
       "    </tr>\n",
       "    <tr>\n",
       "      <th>C</th>\n",
       "      <td>Akash</td>\n",
       "      <td>30</td>\n",
       "      <td>Chenn</td>\n",
       "      <td>DE</td>\n",
       "    </tr>\n",
       "    <tr>\n",
       "      <th>D</th>\n",
       "      <td>Anvi</td>\n",
       "      <td>35</td>\n",
       "      <td>Mumbai</td>\n",
       "      <td>FE</td>\n",
       "    </tr>\n",
       "  </tbody>\n",
       "</table>\n",
       "</div>"
      ],
      "text/plain": [
       "     Names  Age    City job\n",
       "A    Ayush   20     Hyd  DA\n",
       "B  Avinash   25     Blr  DS\n",
       "C    Akash   30   Chenn  DE\n",
       "D     Anvi   35  Mumbai  FE"
      ]
     },
     "execution_count": 43,
     "metadata": {},
     "output_type": "execute_result"
    }
   ],
   "source": [
    "names = ['Ayush','Avinash','Akash','Anvi']\n",
    "age = [20,25,30,35]\n",
    "city = ['Hyd','Blr','Chenn','Mumbai']\n",
    "Job = ['DA','DS','DE','FE']\n",
    "\n",
    "data = zip(names,age,city,Job)\n",
    "cols = ['Names','Age','City','job']\n",
    "idx = ['A','B','C','D']\n",
    "df = pd.DataFrame(data,index = idx,columns = cols)\n",
    "df"
   ]
  },
  {
   "cell_type": "code",
   "execution_count": 44,
   "id": "ec347422",
   "metadata": {},
   "outputs": [
    {
     "data": {
      "text/html": [
       "<div>\n",
       "<style scoped>\n",
       "    .dataframe tbody tr th:only-of-type {\n",
       "        vertical-align: middle;\n",
       "    }\n",
       "\n",
       "    .dataframe tbody tr th {\n",
       "        vertical-align: top;\n",
       "    }\n",
       "\n",
       "    .dataframe thead th {\n",
       "        text-align: right;\n",
       "    }\n",
       "</style>\n",
       "<table border=\"1\" class=\"dataframe\">\n",
       "  <thead>\n",
       "    <tr style=\"text-align: right;\">\n",
       "      <th></th>\n",
       "      <th>Names</th>\n",
       "      <th>job</th>\n",
       "    </tr>\n",
       "  </thead>\n",
       "  <tbody>\n",
       "    <tr>\n",
       "      <th>A</th>\n",
       "      <td>Ayush</td>\n",
       "      <td>DA</td>\n",
       "    </tr>\n",
       "    <tr>\n",
       "      <th>B</th>\n",
       "      <td>Avinash</td>\n",
       "      <td>DS</td>\n",
       "    </tr>\n",
       "    <tr>\n",
       "      <th>C</th>\n",
       "      <td>Akash</td>\n",
       "      <td>DE</td>\n",
       "    </tr>\n",
       "    <tr>\n",
       "      <th>D</th>\n",
       "      <td>Anvi</td>\n",
       "      <td>FE</td>\n",
       "    </tr>\n",
       "  </tbody>\n",
       "</table>\n",
       "</div>"
      ],
      "text/plain": [
       "     Names job\n",
       "A    Ayush  DA\n",
       "B  Avinash  DS\n",
       "C    Akash  DE\n",
       "D     Anvi  FE"
      ]
     },
     "execution_count": 44,
     "metadata": {},
     "output_type": "execute_result"
    }
   ],
   "source": [
    "df.drop(['City','Age'],axis=1,inplace = True)\n",
    "df"
   ]
  },
  {
   "cell_type": "markdown",
   "id": "0b93ff1a",
   "metadata": {},
   "source": [
    "$step-10$\n",
    "\n",
    "#### Drop rows"
   ]
  },
  {
   "cell_type": "code",
   "execution_count": 46,
   "id": "21650a20",
   "metadata": {},
   "outputs": [
    {
     "data": {
      "text/html": [
       "<div>\n",
       "<style scoped>\n",
       "    .dataframe tbody tr th:only-of-type {\n",
       "        vertical-align: middle;\n",
       "    }\n",
       "\n",
       "    .dataframe tbody tr th {\n",
       "        vertical-align: top;\n",
       "    }\n",
       "\n",
       "    .dataframe thead th {\n",
       "        text-align: right;\n",
       "    }\n",
       "</style>\n",
       "<table border=\"1\" class=\"dataframe\">\n",
       "  <thead>\n",
       "    <tr style=\"text-align: right;\">\n",
       "      <th></th>\n",
       "      <th>Names</th>\n",
       "      <th>Age</th>\n",
       "      <th>City</th>\n",
       "      <th>job</th>\n",
       "    </tr>\n",
       "  </thead>\n",
       "  <tbody>\n",
       "    <tr>\n",
       "      <th>A</th>\n",
       "      <td>Ayush</td>\n",
       "      <td>20</td>\n",
       "      <td>Hyd</td>\n",
       "      <td>DA</td>\n",
       "    </tr>\n",
       "    <tr>\n",
       "      <th>B</th>\n",
       "      <td>Avinash</td>\n",
       "      <td>25</td>\n",
       "      <td>Blr</td>\n",
       "      <td>DS</td>\n",
       "    </tr>\n",
       "    <tr>\n",
       "      <th>C</th>\n",
       "      <td>Akash</td>\n",
       "      <td>30</td>\n",
       "      <td>Chenn</td>\n",
       "      <td>DE</td>\n",
       "    </tr>\n",
       "    <tr>\n",
       "      <th>D</th>\n",
       "      <td>Anvi</td>\n",
       "      <td>35</td>\n",
       "      <td>Mumbai</td>\n",
       "      <td>FE</td>\n",
       "    </tr>\n",
       "  </tbody>\n",
       "</table>\n",
       "</div>"
      ],
      "text/plain": [
       "     Names  Age    City job\n",
       "A    Ayush   20     Hyd  DA\n",
       "B  Avinash   25     Blr  DS\n",
       "C    Akash   30   Chenn  DE\n",
       "D     Anvi   35  Mumbai  FE"
      ]
     },
     "execution_count": 46,
     "metadata": {},
     "output_type": "execute_result"
    }
   ],
   "source": [
    "names = ['Ayush','Avinash','Akash','Anvi']\n",
    "age = [20,25,30,35]\n",
    "city = ['Hyd','Blr','Chenn','Mumbai']\n",
    "Job = ['DA','DS','DE','FE']\n",
    "\n",
    "data = zip(names,age,city,Job)\n",
    "cols = ['Names','Age','City','job']\n",
    "idx = ['A','B','C','D']\n",
    "df = pd.DataFrame(data,index = idx,columns = cols)\n",
    "df"
   ]
  },
  {
   "cell_type": "code",
   "execution_count": 47,
   "id": "8c503abf",
   "metadata": {},
   "outputs": [],
   "source": [
    "# df.drop('City',axis=0,inplace=True)"
   ]
  },
  {
   "cell_type": "code",
   "execution_count": 48,
   "id": "70a790a7",
   "metadata": {},
   "outputs": [],
   "source": [
    "df.drop('A',axis=0,inplace=True)"
   ]
  },
  {
   "cell_type": "code",
   "execution_count": 49,
   "id": "51326ef6",
   "metadata": {},
   "outputs": [
    {
     "data": {
      "text/html": [
       "<div>\n",
       "<style scoped>\n",
       "    .dataframe tbody tr th:only-of-type {\n",
       "        vertical-align: middle;\n",
       "    }\n",
       "\n",
       "    .dataframe tbody tr th {\n",
       "        vertical-align: top;\n",
       "    }\n",
       "\n",
       "    .dataframe thead th {\n",
       "        text-align: right;\n",
       "    }\n",
       "</style>\n",
       "<table border=\"1\" class=\"dataframe\">\n",
       "  <thead>\n",
       "    <tr style=\"text-align: right;\">\n",
       "      <th></th>\n",
       "      <th>Names</th>\n",
       "      <th>Age</th>\n",
       "      <th>City</th>\n",
       "      <th>job</th>\n",
       "    </tr>\n",
       "  </thead>\n",
       "  <tbody>\n",
       "    <tr>\n",
       "      <th>B</th>\n",
       "      <td>Avinash</td>\n",
       "      <td>25</td>\n",
       "      <td>Blr</td>\n",
       "      <td>DS</td>\n",
       "    </tr>\n",
       "    <tr>\n",
       "      <th>C</th>\n",
       "      <td>Akash</td>\n",
       "      <td>30</td>\n",
       "      <td>Chenn</td>\n",
       "      <td>DE</td>\n",
       "    </tr>\n",
       "    <tr>\n",
       "      <th>D</th>\n",
       "      <td>Anvi</td>\n",
       "      <td>35</td>\n",
       "      <td>Mumbai</td>\n",
       "      <td>FE</td>\n",
       "    </tr>\n",
       "  </tbody>\n",
       "</table>\n",
       "</div>"
      ],
      "text/plain": [
       "     Names  Age    City job\n",
       "B  Avinash   25     Blr  DS\n",
       "C    Akash   30   Chenn  DE\n",
       "D     Anvi   35  Mumbai  FE"
      ]
     },
     "execution_count": 49,
     "metadata": {},
     "output_type": "execute_result"
    }
   ],
   "source": [
    "df"
   ]
  },
  {
   "cell_type": "code",
   "execution_count": 50,
   "id": "25aba38d",
   "metadata": {},
   "outputs": [
    {
     "data": {
      "text/html": [
       "<div>\n",
       "<style scoped>\n",
       "    .dataframe tbody tr th:only-of-type {\n",
       "        vertical-align: middle;\n",
       "    }\n",
       "\n",
       "    .dataframe tbody tr th {\n",
       "        vertical-align: top;\n",
       "    }\n",
       "\n",
       "    .dataframe thead th {\n",
       "        text-align: right;\n",
       "    }\n",
       "</style>\n",
       "<table border=\"1\" class=\"dataframe\">\n",
       "  <thead>\n",
       "    <tr style=\"text-align: right;\">\n",
       "      <th></th>\n",
       "      <th>Names</th>\n",
       "      <th>Age</th>\n",
       "      <th>City</th>\n",
       "      <th>job</th>\n",
       "    </tr>\n",
       "  </thead>\n",
       "  <tbody>\n",
       "    <tr>\n",
       "      <th>A</th>\n",
       "      <td>Ayush</td>\n",
       "      <td>20</td>\n",
       "      <td>Hyd</td>\n",
       "      <td>DA</td>\n",
       "    </tr>\n",
       "    <tr>\n",
       "      <th>B</th>\n",
       "      <td>Avinash</td>\n",
       "      <td>25</td>\n",
       "      <td>Blr</td>\n",
       "      <td>DS</td>\n",
       "    </tr>\n",
       "    <tr>\n",
       "      <th>C</th>\n",
       "      <td>Akash</td>\n",
       "      <td>30</td>\n",
       "      <td>Chenn</td>\n",
       "      <td>DE</td>\n",
       "    </tr>\n",
       "    <tr>\n",
       "      <th>D</th>\n",
       "      <td>Anvi</td>\n",
       "      <td>35</td>\n",
       "      <td>Mumbai</td>\n",
       "      <td>FE</td>\n",
       "    </tr>\n",
       "  </tbody>\n",
       "</table>\n",
       "</div>"
      ],
      "text/plain": [
       "     Names  Age    City job\n",
       "A    Ayush   20     Hyd  DA\n",
       "B  Avinash   25     Blr  DS\n",
       "C    Akash   30   Chenn  DE\n",
       "D     Anvi   35  Mumbai  FE"
      ]
     },
     "execution_count": 50,
     "metadata": {},
     "output_type": "execute_result"
    }
   ],
   "source": [
    "names = ['Ayush','Avinash','Akash','Anvi']\n",
    "age = [20,25,30,35]\n",
    "city = ['Hyd','Blr','Chenn','Mumbai']\n",
    "Job = ['DA','DS','DE','FE']\n",
    "\n",
    "data = zip(names,age,city,Job)\n",
    "cols = ['Names','Age','City','job']\n",
    "idx = ['A','B','C','D']\n",
    "df = pd.DataFrame(data,index = idx,columns = cols)\n",
    "df"
   ]
  },
  {
   "cell_type": "markdown",
   "id": "18dd8584",
   "metadata": {},
   "source": [
    "$step-11$\n",
    "\n",
    "#### How to save the data frame\n",
    "\n",
    "- Generally data frames are two types\n",
    "\n",
    "- csv(Comma Separated values)\n",
    "\n",
    "- Excel"
   ]
  },
  {
   "cell_type": "code",
   "execution_count": 52,
   "id": "814ce328",
   "metadata": {},
   "outputs": [],
   "source": [
    "# file name = data\n",
    "df.to_csv('data.csv')"
   ]
  },
  {
   "cell_type": "code",
   "execution_count": 53,
   "id": "61d61c63",
   "metadata": {},
   "outputs": [],
   "source": [
    "# file name = data1\n",
    "df.to_csv('data1.csv',index=False)"
   ]
  },
  {
   "cell_type": "code",
   "execution_count": 54,
   "id": "0585ad3b",
   "metadata": {},
   "outputs": [],
   "source": [
    "df.to_excel('data2.xlsx')\n",
    "df.to_excel('data3.xlsx',index=False)"
   ]
  },
  {
   "cell_type": "code",
   "execution_count": 90,
   "id": "9567fdea",
   "metadata": {},
   "outputs": [
    {
     "name": "stdout",
     "output_type": "stream",
     "text": [
      "30\n"
     ]
    }
   ],
   "source": [
    "a = 10\n",
    "b = 20\n",
    "c = a+b\n",
    "print(c)"
   ]
  },
  {
   "cell_type": "code",
   "execution_count": null,
   "id": "06b49e38-fc51-41a5-a925-438589ddbc5b",
   "metadata": {},
   "outputs": [],
   "source": []
  }
 ],
 "metadata": {
  "kernelspec": {
   "display_name": "Python 3 (ipykernel)",
   "language": "python",
   "name": "python3"
  },
  "language_info": {
   "codemirror_mode": {
    "name": "ipython",
    "version": 3
   },
   "file_extension": ".py",
   "mimetype": "text/x-python",
   "name": "python",
   "nbconvert_exporter": "python",
   "pygments_lexer": "ipython3",
   "version": "3.11.7"
  }
 },
 "nbformat": 4,
 "nbformat_minor": 5
}
